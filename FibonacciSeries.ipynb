{
 "cells": [
  {
   "cell_type": "markdown",
   "metadata": {},
   "source": [
    "Fibonacci Series ---"
   ]
  },
  {
   "cell_type": "code",
   "execution_count": 1,
   "metadata": {},
   "outputs": [
    {
     "name": "stderr",
     "output_type": "stream",
     "text": [
      "/usr/local/lib/python2.7/dist-packages/h5py/__init__.py:36: FutureWarning: Conversion of the second argument of issubdtype from `float` to `np.floating` is deprecated. In future, it will be treated as `np.float64 == np.dtype(float).type`.\n",
      "  from ._conv import register_converters as _register_converters\n",
      "Using TensorFlow backend.\n"
     ]
    }
   ],
   "source": [
    "from keras.models import load_model\n",
    "from keras.models import Sequential\n",
    "from keras.layers import LSTM\n",
    "from keras.layers import Dense\n",
    "from keras.layers.wrappers import TimeDistributed\n",
    "from keras.layers.core import Dropout\n",
    "from keras.optimizers import Adam\n",
    "import numpy as np\n",
    "import pandas as pd\n",
    "import sys"
   ]
  },
  {
   "cell_type": "code",
   "execution_count": 2,
   "metadata": {},
   "outputs": [],
   "source": [
    "np.random.seed(42)"
   ]
  },
  {
   "cell_type": "code",
   "execution_count": 3,
   "metadata": {},
   "outputs": [],
   "source": [
    "MAX_BITS = 63 # for sys.maxint\n",
    "N_FIB_TERMS = 92 # up to an including 92nd fib. has <= 19 digits\n",
    "N_3_WINDOWS = N_FIB_TERMS - 3 + 1\n",
    "N_EXTRA_DATA_POINTS = 5000\n",
    "EXTRA_DATA_MAX = np.iinfo(np.int64).max / 2\n",
    "TEST_SPLIT = 0.2\n",
    "FIB_REPEAT_FACTOR = 10"
   ]
  },
  {
   "cell_type": "code",
   "execution_count": 4,
   "metadata": {},
   "outputs": [],
   "source": [
    "# Model & Training Parameters\n",
    "DROPOUT = 0.33\n",
    "N_HIDDEN_UNITS = 10\n",
    "LEARNING_RATE = 0.01\n",
    "EPOCHS = 10\n",
    "BATCH_SIZE = 100"
   ]
  },
  {
   "cell_type": "code",
   "execution_count": 5,
   "metadata": {},
   "outputs": [],
   "source": [
    "def encode_decimal (n, n_bits=MAX_BITS):\n",
    "    n = int(n)\n",
    "    rev_bit_string = \"{0:b}\".format(n)[::-1]\n",
    "    x = np.zeros((n_bits,1), dtype=np.int64)\n",
    "    for i in xrange(len(rev_bit_string)):\n",
    "        x[i] = int(rev_bit_string[i])\n",
    "    return x"
   ]
  },
  {
   "cell_type": "code",
   "execution_count": 6,
   "metadata": {},
   "outputs": [],
   "source": [
    "def make_bits_from_sigmoid_out (arr):\n",
    "    bit_array = np.zeros(arr.shape, dtype=np.int64)\n",
    "    for i in xrange(arr.shape[0]):\n",
    "        if arr[i] >= 0.5:\n",
    "            bit_array[i] = 1\n",
    "        else:\n",
    "            bit_array[i] = 0\n",
    "    return bit_array"
   ]
  },
  {
   "cell_type": "code",
   "execution_count": 7,
   "metadata": {},
   "outputs": [],
   "source": [
    "def decode_bits (arr):\n",
    "    rev_bit_string = \"\"\n",
    "    for i in xrange(arr.shape[0]):\n",
    "        rev_bit_string += str(arr[i][0])\n",
    "    bit_string = rev_bit_string[::-1]\n",
    "    return int(bit_string, 2)"
   ]
  },
  {
   "cell_type": "code",
   "execution_count": 9,
   "metadata": {},
   "outputs": [],
   "source": [
    "fibonacci_ref = pd.read_csv(\"fibonacci_sequence.csv\", header=None)"
   ]
  },
  {
   "cell_type": "code",
   "execution_count": 10,
   "metadata": {},
   "outputs": [],
   "source": [
    "# Generate the dataset\n",
    "# Duplicate each sample, with t-1 and t-2 terms swapped \n",
    "X_fib_all = np.zeros([2*N_3_WINDOWS, MAX_BITS, 2], dtype=np.int64)\n",
    "Y_fib_all = np.zeros([2*N_3_WINDOWS, MAX_BITS, 1], dtype=np.int64)"
   ]
  },
  {
   "cell_type": "code",
   "execution_count": 11,
   "metadata": {},
   "outputs": [
    {
     "name": "stderr",
     "output_type": "stream",
     "text": [
      "/usr/local/lib/python2.7/dist-packages/ipykernel_launcher.py:3: DeprecationWarning: \n",
      ".ix is deprecated. Please use\n",
      ".loc for label based indexing or\n",
      ".iloc for positional indexing\n",
      "\n",
      "See the documentation here:\n",
      "http://pandas.pydata.org/pandas-docs/stable/indexing.html#ix-indexer-is-deprecated\n",
      "  This is separate from the ipykernel package so we can avoid doing imports until\n"
     ]
    }
   ],
   "source": [
    "for i in xrange(N_3_WINDOWS):\n",
    "\n",
    "    first = encode_decimal(fibonacci_ref.ix[i][1])\n",
    "    second = encode_decimal(fibonacci_ref.ix[i+1][1])\n",
    "    third = encode_decimal(fibonacci_ref.ix[i+2][1])\n",
    "\n",
    "    X = np.hstack((first, second))\n",
    "    X_swap = np.hstack((second, first))\n",
    "\n",
    "    np.copyto(X_fib_all[i], X)\n",
    "    np.copyto(Y_fib_all[i], third)\n",
    "    np.copyto(X_fib_all[i+N_3_WINDOWS], X_swap)\n",
    "    np.copyto(Y_fib_all[i+N_3_WINDOWS], third)"
   ]
  },
  {
   "cell_type": "code",
   "execution_count": 12,
   "metadata": {},
   "outputs": [],
   "source": [
    "X_extra_all = np.zeros([N_EXTRA_DATA_POINTS, MAX_BITS,2], dtype=np.int64)\n",
    "Y_extra_all = np.zeros([N_EXTRA_DATA_POINTS, MAX_BITS,1], dtype=np.int64)"
   ]
  },
  {
   "cell_type": "code",
   "execution_count": 13,
   "metadata": {},
   "outputs": [],
   "source": [
    "for i in xrange(N_EXTRA_DATA_POINTS):\n",
    "\n",
    "    first_n = np.random.randint(0,EXTRA_DATA_MAX)\n",
    "    second_n = np.random.randint(0,EXTRA_DATA_MAX)\n",
    "    third_n = first_n + second_n\n",
    "\n",
    "    first = encode_decimal(first_n)\n",
    "    second = encode_decimal(second_n)\n",
    "    third = encode_decimal(third_n)\n",
    "\n",
    "    X = np.hstack((first, second))\n",
    "    np.copyto(X_extra_all[i], X)\n",
    "    np.copyto(Y_extra_all[i], third)"
   ]
  },
  {
   "cell_type": "code",
   "execution_count": 14,
   "metadata": {},
   "outputs": [],
   "source": [
    "# Create training and test sets by randomly sampling the whole data set\n",
    "X_train_all = np.vstack(tuple([X_extra_all]+[X_fib_all]*FIB_REPEAT_FACTOR))\n",
    "Y_train_all = np.vstack(tuple([Y_extra_all]+[Y_fib_all]*FIB_REPEAT_FACTOR))"
   ]
  },
  {
   "cell_type": "code",
   "execution_count": 15,
   "metadata": {},
   "outputs": [],
   "source": [
    "test_split_mask = np.random.rand(X_train_all.shape[0]) < (1-TEST_SPLIT)"
   ]
  },
  {
   "cell_type": "code",
   "execution_count": 16,
   "metadata": {},
   "outputs": [],
   "source": [
    "X_train = X_train_all[test_split_mask]\n",
    "Y_train = Y_train_all[test_split_mask]\n",
    "X_test = X_train_all[~test_split_mask]\n",
    "Y_test = Y_train_all[~test_split_mask]"
   ]
  },
  {
   "cell_type": "code",
   "execution_count": 30,
   "metadata": {},
   "outputs": [
    {
     "name": "stderr",
     "output_type": "stream",
     "text": [
      "/usr/local/lib/python2.7/dist-packages/ipykernel_launcher.py:3: UserWarning: The `input_dim` and `input_length` arguments in recurrent layers are deprecated. Use `input_shape` instead.\n",
      "  This is separate from the ipykernel package so we can avoid doing imports until\n",
      "/usr/local/lib/python2.7/dist-packages/ipykernel_launcher.py:3: UserWarning: Update your `LSTM` call to the Keras 2 API: `LSTM(10, return_sequences=True, input_shape=(None, 2))`\n",
      "  This is separate from the ipykernel package so we can avoid doing imports until\n"
     ]
    }
   ],
   "source": [
    "# Define and train the model\n",
    "model = Sequential()\n",
    "model.add(LSTM(N_HIDDEN_UNITS, return_sequences=True, input_shape=(MAX_BITS,), input_dim=2))\n",
    "model.add(Dropout(DROPOUT))\n",
    "model.add(TimeDistributed(Dense(1, activation='sigmoid')))\n",
    "\n",
    "opt = Adam(lr=LEARNING_RATE)\n",
    "model.compile(loss='binary_crossentropy', optimizer=opt, metrics=['accuracy'])"
   ]
  },
  {
   "cell_type": "code",
   "execution_count": 31,
   "metadata": {},
   "outputs": [
    {
     "name": "stdout",
     "output_type": "stream",
     "text": [
      "Epoch 1/10\n",
      " - 2s - loss: 0.6506 - acc: 0.5487\n",
      "Epoch 2/10\n",
      " - 1s - loss: 0.6149 - acc: 0.5538\n",
      "Epoch 3/10\n",
      " - 1s - loss: 0.5597 - acc: 0.6629\n",
      "Epoch 4/10\n",
      " - 1s - loss: 0.3035 - acc: 0.8869\n",
      "Epoch 5/10\n",
      " - 1s - loss: 0.1731 - acc: 0.9462\n",
      "Epoch 6/10\n",
      " - 1s - loss: 0.1109 - acc: 0.9614\n",
      "Epoch 7/10\n",
      " - 1s - loss: 0.0753 - acc: 0.9823\n",
      "Epoch 8/10\n",
      " - 2s - loss: 0.0581 - acc: 0.9861\n",
      "Epoch 9/10\n",
      " - 1s - loss: 0.0509 - acc: 0.9866\n",
      "Epoch 10/10\n",
      " - 1s - loss: 0.0480 - acc: 0.9868\n"
     ]
    },
    {
     "data": {
      "text/plain": [
       "<keras.callbacks.History at 0x7fc8f71455d0>"
      ]
     },
     "execution_count": 31,
     "metadata": {},
     "output_type": "execute_result"
    }
   ],
   "source": [
    "model.fit(X_train, Y_train, nb_epoch=10, batch_size=100, verbose=2)"
   ]
  },
  {
   "cell_type": "markdown",
   "metadata": {},
   "source": [
    "Model Saved "
   ]
  },
  {
   "cell_type": "code",
   "execution_count": 32,
   "metadata": {},
   "outputs": [
    {
     "name": "stdout",
     "output_type": "stream",
     "text": [
      "Test Set Scores\n",
      "Accuracy: 100.00%\n",
      "All Fibonacci Scores\n",
      "Accuracy: 100.00%\n"
     ]
    }
   ],
   "source": [
    "# Evaluate the model\n",
    "print \"Test Set Scores\"\n",
    "scores = model.evaluate(X_test, Y_test, verbose=0)\n",
    "print \"Accuracy: %.2f%%\" % (scores[1]*100)\n",
    "print \"All Fibonacci Scores\"\n",
    "scores = model.evaluate(X_fib_all, Y_fib_all, verbose=0)\n",
    "print \"Accuracy: %.2f%%\" % (scores[1]*100)"
   ]
  },
  {
   "cell_type": "code",
   "execution_count": 33,
   "metadata": {},
   "outputs": [],
   "source": [
    "def predict_sum (x1, x2):\n",
    "    x1_encoded = encode_decimal(x1)\n",
    "    x2_encoded = encode_decimal(x2)\n",
    "    X = np.hstack((x1_encoded, x2_encoded)).reshape((1,x1_encoded.shape[0],2))\n",
    "    pred_encoded_raw = model.predict(X, batch_size=1)[0]\n",
    "    pred_encoded = make_bits_from_sigmoid_out(pred_encoded_raw)\n",
    "    return decode_bits(pred_encoded)"
   ]
  },
  {
   "cell_type": "code",
   "execution_count": 34,
   "metadata": {},
   "outputs": [],
   "source": [
    "\n",
    "def generate_fibonacci (n):\n",
    "    if n > 92:\n",
    "        print \"ERROR: only first 92 fibs supported because of int64 limits! Sorry :(\"\n",
    "        return []\n",
    "\n",
    "    fibs = [1,1]\n",
    "    for i in xrange(len(fibs), n):\n",
    "        fibs.append(predict_sum(fibs[i-1], fibs[i-2]))\n",
    "\n",
    "    return fibs"
   ]
  },
  {
   "cell_type": "code",
   "execution_count": 35,
   "metadata": {},
   "outputs": [
    {
     "name": "stdout",
     "output_type": "stream",
     "text": [
      "Generating Fibonacci Terms\n",
      "\n",
      "First `how many` terms? \n",
      "20\n",
      "\n",
      "1\n",
      "1\n",
      "2\n",
      "3\n",
      "5\n",
      "8\n",
      "13\n",
      "21\n",
      "34\n",
      "55\n",
      "89\n",
      "144\n",
      "233\n",
      "377\n",
      "610\n",
      "987\n",
      "1597\n",
      "2584\n",
      "4181\n",
      "6765\n",
      "\n",
      "First `how many` terms? \n",
      "29\n",
      "\n",
      "1\n",
      "1\n",
      "2\n",
      "3\n",
      "5\n",
      "8\n",
      "13\n",
      "21\n",
      "34\n",
      "55\n",
      "89\n",
      "144\n",
      "233\n",
      "377\n",
      "610\n",
      "987\n",
      "1597\n",
      "2584\n",
      "4181\n",
      "6765\n",
      "10946\n",
      "17711\n",
      "28657\n",
      "46368\n",
      "75025\n",
      "121393\n",
      "196418\n",
      "317811\n",
      "514229\n",
      "\n",
      "First `how many` terms? \n",
      "122\n",
      "ERROR: only first 92 fibs supported because of int64 limits! Sorry :(\n",
      "\n",
      "First `how many` terms? \n"
     ]
    },
    {
     "ename": "KeyboardInterrupt",
     "evalue": "",
     "output_type": "error",
     "traceback": [
      "\u001b[0;31m---------------------------------------------------------------------------\u001b[0m",
      "\u001b[0;31mKeyboardInterrupt\u001b[0m                         Traceback (most recent call last)",
      "\u001b[0;32m<ipython-input-35-723604a4bb4f>\u001b[0m in \u001b[0;36m<module>\u001b[0;34m()\u001b[0m\n\u001b[1;32m      3\u001b[0m     \u001b[0;32mprint\u001b[0m \u001b[0;34m\"\\nFirst `how many` terms? \"\u001b[0m\u001b[0;34m\u001b[0m\u001b[0m\n\u001b[1;32m      4\u001b[0m     \u001b[0;32mtry\u001b[0m\u001b[0;34m:\u001b[0m\u001b[0;34m\u001b[0m\u001b[0m\n\u001b[0;32m----> 5\u001b[0;31m         \u001b[0mraw_s\u001b[0m \u001b[0;34m=\u001b[0m \u001b[0mraw_input\u001b[0m\u001b[0;34m(\u001b[0m\u001b[0;34m)\u001b[0m\u001b[0;34m.\u001b[0m\u001b[0mstrip\u001b[0m\u001b[0;34m(\u001b[0m\u001b[0;34m)\u001b[0m\u001b[0;34m\u001b[0m\u001b[0m\n\u001b[0m\u001b[1;32m      6\u001b[0m     \u001b[0;32mexcept\u001b[0m \u001b[0mEOFError\u001b[0m \u001b[0;32mas\u001b[0m \u001b[0me\u001b[0m\u001b[0;34m:\u001b[0m\u001b[0;34m\u001b[0m\u001b[0m\n\u001b[1;32m      7\u001b[0m         \u001b[0msys\u001b[0m\u001b[0;34m.\u001b[0m\u001b[0mexit\u001b[0m\u001b[0;34m(\u001b[0m\u001b[0;36m0\u001b[0m\u001b[0;34m)\u001b[0m\u001b[0;34m\u001b[0m\u001b[0m\n",
      "\u001b[0;32m/usr/local/lib/python2.7/dist-packages/ipykernel/kernelbase.pyc\u001b[0m in \u001b[0;36mraw_input\u001b[0;34m(self, prompt)\u001b[0m\n\u001b[1;32m    702\u001b[0m             \u001b[0mself\u001b[0m\u001b[0;34m.\u001b[0m\u001b[0m_parent_ident\u001b[0m\u001b[0;34m,\u001b[0m\u001b[0;34m\u001b[0m\u001b[0m\n\u001b[1;32m    703\u001b[0m             \u001b[0mself\u001b[0m\u001b[0;34m.\u001b[0m\u001b[0m_parent_header\u001b[0m\u001b[0;34m,\u001b[0m\u001b[0;34m\u001b[0m\u001b[0m\n\u001b[0;32m--> 704\u001b[0;31m             \u001b[0mpassword\u001b[0m\u001b[0;34m=\u001b[0m\u001b[0mFalse\u001b[0m\u001b[0;34m,\u001b[0m\u001b[0;34m\u001b[0m\u001b[0m\n\u001b[0m\u001b[1;32m    705\u001b[0m         )\n\u001b[1;32m    706\u001b[0m \u001b[0;34m\u001b[0m\u001b[0m\n",
      "\u001b[0;32m/usr/local/lib/python2.7/dist-packages/ipykernel/kernelbase.pyc\u001b[0m in \u001b[0;36m_input_request\u001b[0;34m(self, prompt, ident, parent, password)\u001b[0m\n\u001b[1;32m    732\u001b[0m             \u001b[0;32mexcept\u001b[0m \u001b[0mKeyboardInterrupt\u001b[0m\u001b[0;34m:\u001b[0m\u001b[0;34m\u001b[0m\u001b[0m\n\u001b[1;32m    733\u001b[0m                 \u001b[0;31m# re-raise KeyboardInterrupt, to truncate traceback\u001b[0m\u001b[0;34m\u001b[0m\u001b[0;34m\u001b[0m\u001b[0m\n\u001b[0;32m--> 734\u001b[0;31m                 \u001b[0;32mraise\u001b[0m \u001b[0mKeyboardInterrupt\u001b[0m\u001b[0;34m\u001b[0m\u001b[0m\n\u001b[0m\u001b[1;32m    735\u001b[0m             \u001b[0;32melse\u001b[0m\u001b[0;34m:\u001b[0m\u001b[0;34m\u001b[0m\u001b[0m\n\u001b[1;32m    736\u001b[0m                 \u001b[0;32mbreak\u001b[0m\u001b[0;34m\u001b[0m\u001b[0m\n",
      "\u001b[0;31mKeyboardInterrupt\u001b[0m: "
     ]
    }
   ],
   "source": [
    "print \"Generating Fibonacci Terms\"\n",
    "while True:\n",
    "    print \"\\nFirst `how many` terms? \"\n",
    "    try:\n",
    "        raw_s = raw_input().strip()\n",
    "    except EOFError as e:\n",
    "        sys.exit(0)\n",
    "\n",
    "    try:\n",
    "        n = int(raw_s)\n",
    "    except ValueError as e:\n",
    "        print \"Please enter an integer!\"\n",
    "        continue\n",
    "\n",
    "    fibs = generate_fibonacci(n)\n",
    "    if fibs:\n",
    "        print \"\"\n",
    "        for f in fibs:\n",
    "            print f"
   ]
  },
  {
   "cell_type": "code",
   "execution_count": null,
   "metadata": {},
   "outputs": [],
   "source": []
  },
  {
   "cell_type": "code",
   "execution_count": null,
   "metadata": {},
   "outputs": [],
   "source": []
  }
 ],
 "metadata": {
  "kernelspec": {
   "display_name": "Python 2",
   "language": "python",
   "name": "python2"
  },
  "language_info": {
   "codemirror_mode": {
    "name": "ipython",
    "version": 2
   },
   "file_extension": ".py",
   "mimetype": "text/x-python",
   "name": "python",
   "nbconvert_exporter": "python",
   "pygments_lexer": "ipython2",
   "version": "2.7.12+"
  }
 },
 "nbformat": 4,
 "nbformat_minor": 2
}
